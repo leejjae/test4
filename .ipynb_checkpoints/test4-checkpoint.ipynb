{
 "cells": [
  {
   "cell_type": "code",
   "execution_count": null,
   "id": "ff56a8a5-02b8-4109-9e7a-9cee2b691761",
   "metadata": {},
   "outputs": [],
   "source": [
    "import numpy as np\n",
    "import pandas as pd\n",
    "import plotly.express as px\n",
    "import plotly.io as pio\n",
    "\n",
    "pd.options.plotting.backend = \"plotly\"\n",
    "pio.templates.default = \"plotly_white\"\n",
    "\n",
    "df = pd.read_csv(\"https://raw.githubusercontent.com/guebin/DV2023/main/posts/NYCTaxi.csv\")\n",
    "df.columns\n",
    "\n",
    "df_feature = df.assign(\n",
    "    log_trip_duration = np.log(df.trip_duration),\n",
    "    pickup_datetime = df.pickup_datetime.apply(pd.to_datetime),\n",
    "    dropoff_datetime = df.dropoff_datetime.apply(pd.to_datetime),\n",
    "    dist = np.sqrt((df.pickup_latitude-df.dropoff_latitude)**2 + (df.pickup_longitude-df.dropoff_longitude)**2),\n",
    "    #---#\n",
    "    vendor_id = df.vendor_id.map({1:'A',2:'B'})\n",
    ").assign(\n",
    "    pickup_hour = lambda df: df.pickup_datetime.dt.hour,\n",
    "    dropoff_hour = lambda df: df.dropoff_datetime.dt.hour,\n",
    "    dayofweek = lambda df: df.pickup_datetime.dt.dayofweek,\n",
    "    speed = lambda df: df.dist/df.trip_duration,\n",
    ")\n",
    "\n",
    "fig1 = px.scatter_mapbox(\n",
    "    data_frame = df_feature,\n",
    "    lat = 'pickup_latitude',\n",
    "    lon = 'pickup_longitude',\n",
    "    center = {'lat':40.7322, 'lon':-73.9052},\n",
    "    #---#\n",
    "    mapbox_style = 'carto-positron',\n",
    "    zoom=10,\n",
    "    width=750,\n",
    "    height=600\n",
    ")\n",
    "fig1.update_traces(\n",
    "    marker = {\n",
    "        'size':2, \n",
    "    }\n",
    ")\n",
    "\n",
    "\n",
    "fig2 = px.density_mapbox(\n",
    "    data_frame = df_feature,\n",
    "    lat = 'pickup_latitude',\n",
    "    lon = 'pickup_longitude',\n",
    "    radius=1,\n",
    "    center = {'lat':40.7322, 'lon':-73.9052},\n",
    "    #---#\n",
    "    mapbox_style = 'carto-positron',\n",
    "    zoom=10,\n",
    "    width=750,\n",
    "    height=600\n",
    ")\n",
    "\n",
    "\n",
    "fig3 = px.density_mapbox(\n",
    "    data_frame = df_feature,\n",
    "    lat = 'pickup_latitude',\n",
    "    lon = 'pickup_longitude',\n",
    "    radius=1.5,\n",
    "    center = {'lat':40.7322, 'lon':-73.9052},\n",
    "    z = 'passenger_count',\n",
    "    #---#\n",
    "    mapbox_style = 'carto-positron',\n",
    "    zoom=10,\n",
    "    width=750,\n",
    "    height=600\n",
    ")\n"
   ]
  },
  {
   "cell_type": "code",
   "execution_count": null,
   "id": "d92bcc6f-a597-493e-b0dd-b0c7cbf3e500",
   "metadata": {},
   "outputs": [],
   "source": [
    "fig1.show(config={'scrollZoom':False})"
   ]
  },
  {
   "cell_type": "code",
   "execution_count": null,
   "id": "a4c62897-adba-472b-b546-63a966808006",
   "metadata": {},
   "outputs": [],
   "source": [
    "fig2.show(config={'scrollZoom':False})"
   ]
  },
  {
   "cell_type": "code",
   "execution_count": null,
   "id": "3194c870-6c13-48cc-9b27-846113f752b6",
   "metadata": {},
   "outputs": [],
   "source": [
    "fig3.show(config={'scrollZoom':False})"
   ]
  },
  {
   "cell_type": "code",
   "execution_count": null,
   "id": "79234474-e8df-4353-bf90-f42f57df1ebf",
   "metadata": {},
   "outputs": [],
   "source": []
  },
  {
   "cell_type": "code",
   "execution_count": null,
   "id": "043a1231-5c23-4d94-8d53-2b8778272388",
   "metadata": {},
   "outputs": [],
   "source": []
  },
  {
   "cell_type": "code",
   "execution_count": null,
   "id": "1c320d12-ce1d-425f-bb05-267459e89950",
   "metadata": {},
   "outputs": [],
   "source": []
  },
  {
   "cell_type": "code",
   "execution_count": null,
   "id": "a4495253-70c6-4a3d-8cfd-4c58fd73cb44",
   "metadata": {},
   "outputs": [],
   "source": []
  },
  {
   "cell_type": "code",
   "execution_count": null,
   "id": "6658275d-cfae-4280-a694-cfa5e3c3e391",
   "metadata": {},
   "outputs": [],
   "source": []
  }
 ],
 "metadata": {
  "kernelspec": {
   "display_name": "Python 3 (ipykernel)",
   "language": "python",
   "name": "python3"
  },
  "language_info": {
   "codemirror_mode": {
    "name": "ipython",
    "version": 3
   },
   "file_extension": ".py",
   "mimetype": "text/x-python",
   "name": "python",
   "nbconvert_exporter": "python",
   "pygments_lexer": "ipython3",
   "version": "3.10.13"
  }
 },
 "nbformat": 4,
 "nbformat_minor": 5
}
